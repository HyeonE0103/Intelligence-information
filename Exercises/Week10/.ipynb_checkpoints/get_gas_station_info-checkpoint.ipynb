{
 "cells": [
  {
   "cell_type": "code",
   "execution_count": 15,
   "id": "a4b15780",
   "metadata": {},
   "outputs": [],
   "source": [
    "from selenium import webdriver"
   ]
  },
  {
   "cell_type": "code",
   "execution_count": null,
   "id": "2a04003b",
   "metadata": {},
   "outputs": [],
   "source": [
    "opts = webdriver.ChromeOptions()\n",
    "opts.add_experimental_option('prefs', {})"
   ]
  },
  {
   "cell_type": "code",
   "execution_count": 3,
   "id": "d66ae565",
   "metadata": {},
   "outputs": [
    {
     "name": "stderr",
     "output_type": "stream",
     "text": [
      "<ipython-input-3-cd7e47487e2b>:1: DeprecationWarning: executable_path has been deprecated, please pass in a Service object\n",
      "  driver = webdriver.Chrome(r\"C:\\Users\\admin\\Downloads\\chromedriver_win32\\chromedriver.exe\")\n"
     ]
    }
   ],
   "source": [
    "driver = webdriver.Chrome(r\"C:\\Users\\admin\\Downloads\\chromedriver_win32\\chromedriver.exe\")"
   ]
  },
  {
   "cell_type": "code",
   "execution_count": 4,
   "id": "cd839901",
   "metadata": {},
   "outputs": [],
   "source": [
    "main_url = \"https://www.opinet.co.kr/user/main/mainView.do\"\n",
    "driver.get(main_url)\n",
    "url = \"https://www.opinet.co.kr/searRgSelect.do\"\n",
    "driver.get(url)"
   ]
  },
  {
   "cell_type": "code",
   "execution_count": 11,
   "id": "eb626bd0",
   "metadata": {},
   "outputs": [
    {
     "name": "stderr",
     "output_type": "stream",
     "text": [
      "<ipython-input-11-bd3739ea028a>:2: DeprecationWarning: find_element_by_* commands are deprecated. Please use find_element() instead\n",
      "  driver.find_element_by_xpath(city_xpath).send_keys('인천')\n"
     ]
    }
   ],
   "source": [
    "city_xpath = '//*[@id=\"SIDO_NM0\"]'\n",
    "driver.find_element_by_xpath(city_xpath).send_keys('인천')"
   ]
  },
  {
   "cell_type": "code",
   "execution_count": 12,
   "id": "0e245499",
   "metadata": {},
   "outputs": [
    {
     "name": "stderr",
     "output_type": "stream",
     "text": [
      "<ipython-input-12-b9fbf58a2752>:2: DeprecationWarning: find_element_by_* commands are deprecated. Please use find_element() instead\n",
      "  driver.find_element_by_xpath(city_xpath).send_keys('연수구')\n"
     ]
    }
   ],
   "source": [
    "city_xpath = '//*[@id=\"SIGUNGU_NM0\"]'\n",
    "driver.find_element_by_xpath(city_xpath).send_keys('연수구')"
   ]
  },
  {
   "cell_type": "code",
   "execution_count": 13,
   "id": "6ce875da",
   "metadata": {},
   "outputs": [
    {
     "name": "stderr",
     "output_type": "stream",
     "text": [
      "<ipython-input-13-bcd93e1b008a>:2: DeprecationWarning: find_element_by_* commands are deprecated. Please use find_element() instead\n",
      "  driver.find_element_by_xpath(search_button).click()\n"
     ]
    }
   ],
   "source": [
    "search_button = '//*[@id=\"searRgSelect\"]'\n",
    "driver.find_element_by_xpath(search_button).click()"
   ]
  },
  {
   "cell_type": "code",
   "execution_count": null,
   "id": "d150e7d3",
   "metadata": {},
   "outputs": [
    {
     "name": "stderr",
     "output_type": "stream",
     "text": [
      "<ipython-input-16-236d0525b2bc>:2: DeprecationWarning: find_element_by_* commands are deprecated. Please use find_element() instead\n",
      "  driver.find_element_by_xpath(save_excel_button).click()\n"
     ]
    }
   ],
   "source": [
    "save_excel_button = '//*[@id=\"glopopd_excel\"]'\n",
    "driver.find_element_by_xpath(save_excel_button).click()"
   ]
  },
  {
   "cell_type": "code",
   "execution_count": null,
   "id": "33d8210d",
   "metadata": {},
   "outputs": [],
   "source": [
    "driver.close()"
   ]
  },
  {
   "cell_type": "code",
   "execution_count": null,
   "id": "c5fdd3f2",
   "metadata": {},
   "outputs": [],
   "source": []
  }
 ],
 "metadata": {
  "kernelspec": {
   "display_name": "Python 3",
   "language": "python",
   "name": "python3"
  },
  "language_info": {
   "codemirror_mode": {
    "name": "ipython",
    "version": 3
   },
   "file_extension": ".py",
   "mimetype": "text/x-python",
   "name": "python",
   "nbconvert_exporter": "python",
   "pygments_lexer": "ipython3",
   "version": "3.8.8"
  }
 },
 "nbformat": 4,
 "nbformat_minor": 5
}
