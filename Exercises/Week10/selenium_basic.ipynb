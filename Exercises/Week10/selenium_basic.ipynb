{
 "cells": [
  {
   "cell_type": "code",
   "execution_count": null,
   "id": "13097dfd",
   "metadata": {},
   "outputs": [],
   "source": [
    "from selenium import webdriver"
   ]
  },
  {
   "cell_type": "code",
   "execution_count": 8,
   "id": "0aae545e",
   "metadata": {},
   "outputs": [
    {
     "name": "stderr",
     "output_type": "stream",
     "text": [
      "<ipython-input-8-1f8cd54e2058>:1: DeprecationWarning: executable_path has been deprecated, please pass in a Service object\n",
      "  driver = webdriver.Chrome(r\"C:\\Users\\admin\\Downloads\\chromedriver.exe\")\n"
     ]
    }
   ],
   "source": [
    "driver = webdriver.Chrome(r\"C:\\Users\\admin\\Downloads\\chromedriver.exe\")"
   ]
  },
  {
   "cell_type": "code",
   "execution_count": 9,
   "id": "b1b7650d",
   "metadata": {},
   "outputs": [],
   "source": [
    "driver.get(\"https://www.naver.com\")"
   ]
  },
  {
   "cell_type": "code",
   "execution_count": 10,
   "id": "48868b2b",
   "metadata": {},
   "outputs": [],
   "source": [
    "driver.get(\"https://nid.naver.com/nidlogin.login?mode=form&url=https%3A%2F%2F\")"
   ]
  },
  {
   "cell_type": "code",
   "execution_count": 13,
   "id": "b5dda183",
   "metadata": {},
   "outputs": [
    {
     "name": "stderr",
     "output_type": "stream",
     "text": [
      "<ipython-input-13-33c9c3cd4c19>:1: DeprecationWarning: find_element_by_* commands are deprecated. Please use find_element() instead\n",
      "  login_id = driver.find_element_by_id(\"id\")\n"
     ]
    }
   ],
   "source": [
    "login_id = driver.find_element_by_id(\"id\")\n",
    "login_id.clear()\n",
    "login_id.send_keys(\"naver_id\")"
   ]
  },
  {
   "cell_type": "code",
   "execution_count": 14,
   "id": "b3b31fd7",
   "metadata": {},
   "outputs": [
    {
     "name": "stderr",
     "output_type": "stream",
     "text": [
      "<ipython-input-14-810e9414461d>:1: DeprecationWarning: find_element_by_* commands are deprecated. Please use find_element() instead\n",
      "  login_pw = driver.find_element_by_id(\"pw\")\n"
     ]
    }
   ],
   "source": [
    "login_pw = driver.find_element_by_id(\"pw\")\n",
    "login_pw.clear()\n",
    "login_pw.send_keys(\"password1111\")"
   ]
  },
  {
   "cell_type": "code",
   "execution_count": 15,
   "id": "5070b778",
   "metadata": {},
   "outputs": [
    {
     "name": "stderr",
     "output_type": "stream",
     "text": [
      "<ipython-input-15-b0cd99b2c212>:2: DeprecationWarning: find_element_by_* commands are deprecated. Please use find_element() instead\n",
      "  driver.find_element_by_xpath(login_button).click()\n"
     ]
    }
   ],
   "source": [
    "login_button = '//*[@id=\"log.login\"]'\n",
    "driver.find_element_by_xpath(login_button).click()"
   ]
  },
  {
   "cell_type": "code",
   "execution_count": 16,
   "id": "bece4037",
   "metadata": {},
   "outputs": [],
   "source": [
    "driver.close()"
   ]
  },
  {
   "cell_type": "code",
   "execution_count": null,
   "id": "04c74ab6",
   "metadata": {},
   "outputs": [],
   "source": []
  }
 ],
 "metadata": {
  "kernelspec": {
   "display_name": "Python 3",
   "language": "python",
   "name": "python3"
  },
  "language_info": {
   "codemirror_mode": {
    "name": "ipython",
    "version": 3
   },
   "file_extension": ".py",
   "mimetype": "text/x-python",
   "name": "python",
   "nbconvert_exporter": "python",
   "pygments_lexer": "ipython3",
   "version": "3.8.8"
  }
 },
 "nbformat": 4,
 "nbformat_minor": 5
}
