{
 "cells": [
  {
   "cell_type": "code",
   "execution_count": 35,
   "id": "2a04003b",
   "metadata": {},
   "outputs": [
    {
     "name": "stderr",
     "output_type": "stream",
     "text": [
      "<ipython-input-35-45612142e043>:7: DeprecationWarning: executable_path has been deprecated, please pass in a Service object\n",
      "  driver = webdriver.Chrome(r\"C:\\Users\\admin\\Downloads\\chromedriver_win32\\chromedriver.exe\")\n"
     ]
    }
   ],
   "source": [
    "from selenium import webdriver\n",
    "\n",
    "# #경로명 변경!!! \n",
    "# opts = webdriver.ChromeOptions()\n",
    "# opts.add_experimental_option('prefs', {'download.default_directory':r\"C:\\Users\\admin\\OneDrive\\문서\\GitHub\\Intelligence-information\\Exercises\\Week10\"})\n",
    "\n",
    "driver = webdriver.Chrome(r\"C:\\Users\\admin\\Downloads\\chromedriver_win32\\chromedriver.exe\")"
   ]
  },
  {
   "cell_type": "code",
   "execution_count": 36,
   "id": "cd839901",
   "metadata": {},
   "outputs": [],
   "source": [
    "main_url = \"https://www.opinet.co.kr/user/main/mainView.do\"\n",
    "driver.get(main_url)\n",
    "url = \"https://www.opinet.co.kr/searRgSelect.do\"\n",
    "driver.get(url)"
   ]
  },
  {
   "cell_type": "code",
   "execution_count": 37,
   "id": "eb626bd0",
   "metadata": {},
   "outputs": [
    {
     "name": "stderr",
     "output_type": "stream",
     "text": [
      "<ipython-input-37-bd3739ea028a>:2: DeprecationWarning: find_element_by_* commands are deprecated. Please use find_element() instead\n",
      "  driver.find_element_by_xpath(city_xpath).send_keys('인천')\n"
     ]
    }
   ],
   "source": [
    "city_xpath = '//*[@id=\"SIDO_NM0\"]'\n",
    "driver.find_element_by_xpath(city_xpath).send_keys('인천')"
   ]
  },
  {
   "cell_type": "code",
   "execution_count": 38,
   "id": "0e245499",
   "metadata": {},
   "outputs": [
    {
     "name": "stdout",
     "output_type": "stream",
     "text": [
      "시/군/구\n",
      "강화군\n",
      "계양구\n",
      "남동구\n",
      "동구\n",
      "미추홀구\n",
      "부평구\n",
      "서구\n",
      "연수구\n",
      "옹진군\n",
      "중구\n"
     ]
    },
    {
     "name": "stderr",
     "output_type": "stream",
     "text": [
      "<ipython-input-38-9f6de36c994c>:2: DeprecationWarning: find_element_by_* commands are deprecated. Please use find_element() instead\n",
      "  gu_list_raw = driver.find_element_by_xpath(gu_xpath)\n"
     ]
    }
   ],
   "source": [
    "gu_xpath = '//*[@id=\"SIGUNGU_NM0\"]'\n",
    "gu_list_raw = driver.find_element_by_xpath(gu_xpath)\n",
    "gu_list = gu_list_raw.find_elements_by_tag_name(\"option\")\n",
    "for g in gu_list:\n",
    "    print(g.text)"
   ]
  },
  {
   "cell_type": "code",
   "execution_count": 39,
   "id": "5945d852",
   "metadata": {},
   "outputs": [
    {
     "name": "stdout",
     "output_type": "stream",
     "text": [
      "['강화군', '계양구', '남동구', '동구', '미추홀구', '부평구', '서구', '연수구', '옹진군', '중구']\n"
     ]
    }
   ],
   "source": [
    "gu_names = []\n",
    "for i in range(len(gu_list)):\n",
    "    if i > 0:\n",
    "        gu_names.append(gu_list[i].text)\n",
    "print(gu_names)"
   ]
  },
  {
   "cell_type": "code",
   "execution_count": 40,
   "id": "5e2a39f8",
   "metadata": {},
   "outputs": [
    {
     "name": "stdout",
     "output_type": "stream",
     "text": [
      "강화군\n"
     ]
    },
    {
     "name": "stderr",
     "output_type": "stream",
     "text": [
      "<ipython-input-40-8e594c986383>:8: DeprecationWarning: find_element_by_* commands are deprecated. Please use find_element() instead\n",
      "  driver.find_element_by_xpath(gu_xpath).send_keys(gu_names[i])\n",
      "<ipython-input-40-8e594c986383>:14: DeprecationWarning: find_element_by_* commands are deprecated. Please use find_element() instead\n",
      "  driver.find_element_by_xpath(search_button).click()\n",
      "<ipython-input-40-8e594c986383>:20: DeprecationWarning: find_element_by_* commands are deprecated. Please use find_element() instead\n",
      "  driver.find_element_by_xpath(save_excel_button).click()\n"
     ]
    },
    {
     "name": "stdout",
     "output_type": "stream",
     "text": [
      "계양구\n",
      "남동구\n",
      "동구\n",
      "미추홀구\n",
      "부평구\n",
      "서구\n",
      "연수구\n",
      "옹진군\n",
      "중구\n"
     ]
    }
   ],
   "source": [
    "import time\n",
    "from tqdm.notebook import tqdm\n",
    "\n",
    "for i in range(len(gu_names)):\n",
    "    print(gu_names[i])\n",
    "    #지역 연수구\n",
    "    gu_xpath = '//*[@id=\"SIGUNGU_NM0\"]'\n",
    "    driver.find_element_by_xpath(gu_xpath).send_keys(gu_names[i])\n",
    "    \n",
    "    time.sleep(3)\n",
    "    \n",
    "    #조회 버튼 클릭하기\n",
    "    search_button = '//*[@id=\"searRgSelect\"]'\n",
    "    driver.find_element_by_xpath(search_button).click()\n",
    "    \n",
    "    time.sleep(3)\n",
    "    \n",
    "    #엑셀저장 버튼 클릭하기\n",
    "    save_excel_button = '//*[@id=\"glopopd_excel\"]'\n",
    "    driver.find_element_by_xpath(save_excel_button).click()\n",
    "    \n",
    "    time.sleep(3)"
   ]
  },
  {
   "cell_type": "code",
   "execution_count": 41,
   "id": "7ecfde61",
   "metadata": {},
   "outputs": [],
   "source": [
    "driver.close()"
   ]
  },
  {
   "cell_type": "code",
   "execution_count": null,
   "id": "dc02cd7f",
   "metadata": {},
   "outputs": [],
   "source": []
  }
 ],
 "metadata": {
  "kernelspec": {
   "display_name": "Python 3",
   "language": "python",
   "name": "python3"
  },
  "language_info": {
   "codemirror_mode": {
    "name": "ipython",
    "version": 3
   },
   "file_extension": ".py",
   "mimetype": "text/x-python",
   "name": "python",
   "nbconvert_exporter": "python",
   "pygments_lexer": "ipython3",
   "version": "3.8.8"
  }
 },
 "nbformat": 4,
 "nbformat_minor": 5
}
