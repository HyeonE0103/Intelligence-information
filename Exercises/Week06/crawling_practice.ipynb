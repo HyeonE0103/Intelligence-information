{
 "cells": [
  {
   "cell_type": "code",
   "execution_count": 2,
   "id": "0433ef98",
   "metadata": {},
   "outputs": [
    {
     "name": "stdout",
     "output_type": "stream",
     "text": [
      "<class 'bs4.BeautifulSoup'>\n",
      "<html><div>hello</div></html>\n",
      "<div>hello</div>\n"
     ]
    }
   ],
   "source": [
    "from bs4 import BeautifulSoup\n",
    "\n",
    "html_str = \"<html><div>hello</div></html>\"\n",
    "soup = BeautifulSoup(html_str, \"html.parser\")\n",
    "\n",
    "print(type(soup))\n",
    "print(soup)\n",
    "print(soup.find(\"div\"))"
   ]
  },
  {
   "cell_type": "code",
   "execution_count": 10,
   "id": "39c13e7e",
   "metadata": {},
   "outputs": [
    {
     "name": "stdout",
     "output_type": "stream",
     "text": [
      "line1\n",
      "[<li>line1</li>, <li>line2</li>, <li>line3</li>]\n",
      "line3\n"
     ]
    }
   ],
   "source": [
    "from bs4 import BeautifulSoup\n",
    "\n",
    "#여러 줄의 문자열을 사용하기 위해 문자열의 시작 줄과 끝 줄에 각각 \"\"\", \"\"\" 사용\n",
    "html_str = \"\"\"\n",
    "<html>\n",
    "    <body>\n",
    "        <ul>\n",
    "            <li>line1</li>\n",
    "            <li>line2</li>\n",
    "            <li>line3</li>\n",
    "        </ul>\n",
    "    </body>\n",
    "</html>\n",
    "\"\"\"\n",
    "\n",
    "soup = BeautifulSoup(html_str, \"html.parser\")\n",
    "\n",
    "ul = soup.find(\"ul\")\n",
    "li = ul.find(\"li\")\n",
    "print(li.text)\n",
    "lis = ul.find_all(\"li\")\n",
    "print(lis)\n",
    "print(lis[2].text)"
   ]
  },
  {
   "cell_type": "code",
   "execution_count": 13,
   "id": "99c25791",
   "metadata": {},
   "outputs": [
    {
     "name": "stdout",
     "output_type": "stream",
     "text": [
      "<ul class=\"class2\">\n",
      "<li>line1</li>\n",
      "<li>line2</li>\n",
      "<li>line3</li>\n",
      "</ul>\n"
     ]
    }
   ],
   "source": [
    "from bs4 import BeautifulSoup\n",
    "\n",
    "#여러 줄의 문자열을 사용하기 위해 문자열의 시작 줄과 끝 줄에 각각 \"\"\", \"\"\" 사용\n",
    "html_str = \"\"\"\n",
    "<html>\n",
    "    <body>\n",
    "        <ul class=\"class1\">\n",
    "            <li>line1</li>\n",
    "            <li>line2</li>\n",
    "            <li>line3</li>\n",
    "        </ul>\n",
    "        <ul class=\"class2\">\n",
    "            <li>line1</li>\n",
    "            <li>line2</li>\n",
    "            <li>line3</li>\n",
    "        </ul>\n",
    "    </body>\n",
    "</html>\n",
    "\"\"\"\n",
    "\n",
    "soup = BeautifulSoup(html_str, \"html.parser\")\n",
    "\n",
    "ul = soup.find(\"ul\",{\"class\":\"class2\"})\n",
    "print(ul)"
   ]
  },
  {
   "cell_type": "code",
   "execution_count": 16,
   "id": "d145a233",
   "metadata": {},
   "outputs": [
    {
     "name": "stdout",
     "output_type": "stream",
     "text": [
      "<a href=\"https://www.naver.com\">네이버</a>\n",
      "https://www.naver.com\n"
     ]
    }
   ],
   "source": [
    "from bs4 import BeautifulSoup\n",
    "\n",
    "#여러 줄의 문자열을 사용하기 위해 문자열의 시작 줄과 끝 줄에 각각 \"\"\", \"\"\" 사용\n",
    "html_str = \"\"\"\n",
    "<html>\n",
    "    <body>\n",
    "        <ul class=\"search\">\n",
    "            <li>\n",
    "                <a href=\"https://www.naver.com\">네이버</a>\n",
    "            </li>\n",
    "            <li>\n",
    "                <a href=\"https://www.google.com\">구글</a>\n",
    "            </li>\n",
    "        </ul>\n",
    "        <ul class=\"sns\">\n",
    "            <li>\n",
    "                <a href=\"https://www.naver.com\">페이스북</a>\n",
    "            </li>\n",
    "            <li>\n",
    "                <a href=\"https://www.google.com\">인스타그램</a>\n",
    "            </li>\n",
    "        </ul>\n",
    "    </body>\n",
    "</html>\n",
    "\"\"\"\n",
    "\n",
    "soup = BeautifulSoup(html_str, \"html.parser\")\n",
    "\n",
    "ul = soup.find(\"a\")\n",
    "print(ul)\n",
    "print(ul['href'])"
   ]
  },
  {
   "cell_type": "code",
   "execution_count": null,
   "id": "7ccfd399",
   "metadata": {},
   "outputs": [],
   "source": []
  }
 ],
 "metadata": {
  "kernelspec": {
   "display_name": "Python 3",
   "language": "python",
   "name": "python3"
  },
  "language_info": {
   "codemirror_mode": {
    "name": "ipython",
    "version": 3
   },
   "file_extension": ".py",
   "mimetype": "text/x-python",
   "name": "python",
   "nbconvert_exporter": "python",
   "pygments_lexer": "ipython3",
   "version": "3.8.8"
  }
 },
 "nbformat": 4,
 "nbformat_minor": 5
}
