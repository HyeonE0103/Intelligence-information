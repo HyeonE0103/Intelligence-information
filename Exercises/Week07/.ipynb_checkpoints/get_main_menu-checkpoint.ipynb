{
 "cells": [
  {
   "cell_type": "code",
   "execution_count": 6,
   "id": "0328896e",
   "metadata": {},
   "outputs": [
    {
     "name": "stdout",
     "output_type": "stream",
     "text": [
      "메일\n",
      "카페\n",
      "블로그\n",
      "지식iN\n",
      "쇼핑\n",
      "쇼핑LIVE\n",
      "Pay\n",
      "TV\n"
     ]
    }
   ],
   "source": [
    "from bs4 import BeautifulSoup\n",
    "from urllib.request import urlopen\n",
    "\n",
    "url=\"https://www.naver.com\"\n",
    "html = urlopen(url)\n",
    "\n",
    "soup = BeautifulSoup(html.read(),\"html.parser\")\n",
    "\n",
    "result = soup.find(\"ul\", {\"class\":\"list_nav type_fix\"})\n",
    "li_result = result.find_all(\"li\")\n",
    "\n",
    "for li_res in li_result:\n",
    "    a_li_result = li_res.find(\"a\")\n",
    "    print(a_li_result.text)"
   ]
  },
  {
   "cell_type": "code",
   "execution_count": null,
   "id": "b3431dd6",
   "metadata": {},
   "outputs": [],
   "source": []
  }
 ],
 "metadata": {
  "kernelspec": {
   "display_name": "Python 3",
   "language": "python",
   "name": "python3"
  },
  "language_info": {
   "codemirror_mode": {
    "name": "ipython",
    "version": 3
   },
   "file_extension": ".py",
   "mimetype": "text/x-python",
   "name": "python",
   "nbconvert_exporter": "python",
   "pygments_lexer": "ipython3",
   "version": "3.8.8"
  }
 },
 "nbformat": 4,
 "nbformat_minor": 5
}
