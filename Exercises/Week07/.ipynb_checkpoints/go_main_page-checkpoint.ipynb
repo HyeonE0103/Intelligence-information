{
 "cells": [
  {
   "cell_type": "code",
   "execution_count": 11,
   "id": "8e868bb7",
   "metadata": {},
   "outputs": [
    {
     "name": "stdout",
     "output_type": "stream",
     "text": [
      "네이버를 시작페이지로\n"
     ]
    }
   ],
   "source": [
    "from bs4 import BeautifulSoup\n",
    "from urllib.request import urlopen\n",
    "\n",
    "url = \"httpS://www.naver.com\"\n",
    "html=urlopen(url)\n",
    "\n",
    "soup = BeautifulSoup(html.read(),\"html.parser\")\n",
    "\n",
    "result = soup.find(\"div\", {\"class\": \"service_area\"})\n",
    "a_result = result.find(\"a\")\n",
    "print(a_result.text)"
   ]
  },
  {
   "cell_type": "code",
   "execution_count": 13,
   "id": "daf580db",
   "metadata": {},
   "outputs": [
    {
     "name": "stdout",
     "output_type": "stream",
     "text": [
      "네이버를 시작페이지로\n"
     ]
    }
   ],
   "source": [
    "from bs4 import BeautifulSoup\n",
    "from urllib.request import urlopen\n",
    "\n",
    "url = \"httpS://www.naver.com\"\n",
    "html=urlopen(url)\n",
    "\n",
    "soup = BeautifulSoup(html.read(),\"html.parser\")\n",
    "\n",
    "result = soup.find(\"a\",{\"id\":\"NM_set_home_btn\"})\n",
    "print(result.text)"
   ]
  },
  {
   "cell_type": "code",
   "execution_count": null,
   "id": "959270af",
   "metadata": {},
   "outputs": [],
   "source": []
  }
 ],
 "metadata": {
  "kernelspec": {
   "display_name": "Python 3",
   "language": "python",
   "name": "python3"
  },
  "language_info": {
   "codemirror_mode": {
    "name": "ipython",
    "version": 3
   },
   "file_extension": ".py",
   "mimetype": "text/x-python",
   "name": "python",
   "nbconvert_exporter": "python",
   "pygments_lexer": "ipython3",
   "version": "3.8.8"
  }
 },
 "nbformat": 4,
 "nbformat_minor": 5
}
