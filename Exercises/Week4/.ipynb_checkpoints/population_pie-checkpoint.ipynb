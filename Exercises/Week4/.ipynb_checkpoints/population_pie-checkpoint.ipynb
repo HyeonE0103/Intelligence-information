{
 "cells": [
  {
   "cell_type": "code",
   "execution_count": 4,
   "id": "1cd4a083",
   "metadata": {},
   "outputs": [
    {
     "name": "stdout",
     "output_type": "stream",
     "text": [
      "인구 구조를 알고 싶은 동 이름 입력: 송도1동\n"
     ]
    },
    {
     "data": {
      "image/png": "[encoded data removed]",
      "text/plain": [
       "<Figure size 432x288 with 1 Axes>"
      ]
     },
     "metadata": {},
     "output_type": "display_data"
    }
   ],
   "source": [
    "import csv\n",
    "import matplotlib.pyplot as plt\n",
    "\n",
    "f = open('incheon_population.csv', 'r')\n",
    "data = csv.reader(f)\n",
    "\n",
    "result = []\n",
    "m_sum, f_sum = 0, 0\n",
    "\n",
    "name = input('인구 구조를 알고 싶은 동 이름 입력: ')\n",
    "\n",
    "for row in data:\n",
    "    if name in row[0]:\n",
    "        for i in range(101):\n",
    "            m_sum = m_sum + int(row[i+3])\n",
    "            f_sum = f_sum + int(row[i+106])\n",
    "            \n",
    "result.append(m_sum)\n",
    "result.append(f_sum)\n",
    "            \n",
    "plt.rc('font', family = 'Malgun Gothic')\n",
    "plt.title(name + '남녀 비율')\n",
    "\n",
    "plt.axis('equal')\n",
    "\n",
    "label = ['남', '여']\n",
    "color = ['crimson', 'darkcyan']\n",
    "plt.pie(result, labels=label, autopct='%.1f%%', colors=color, startangle=90)\n",
    "\n",
    "plt.legend()\n",
    "plt.show()"
   ]
  },
  {
   "cell_type": "code",
   "execution_count": null,
   "id": "3c5f43a0",
   "metadata": {},
   "outputs": [],
   "source": []
  }
 ],
 "metadata": {
  "kernelspec": {
   "display_name": "Python 3",
   "language": "python",
   "name": "python3"
  },
  "language_info": {
   "codemirror_mode": {
    "name": "ipython",
    "version": 3
   },
   "file_extension": ".py",
   "mimetype": "text/x-python",
   "name": "python",
   "nbconvert_exporter": "python",
   "pygments_lexer": "ipython3",
   "version": "3.8.8"
  }
 },
 "nbformat": 4,
 "nbformat_minor": 5
}
