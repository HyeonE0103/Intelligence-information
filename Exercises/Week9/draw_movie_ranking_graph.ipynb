{
 "cells": [
  {
   "cell_type": "code",
   "execution_count": 8,
   "id": "e4eeb283",
   "metadata": {},
   "outputs": [
    {
     "data": {
      "application/vnd.jupyter.widget-view+json": {
       "model_id": "5dd99030cd94491ea8fac8b09933315c",
       "version_major": 2,
       "version_minor": 0
      },
      "text/plain": [
       "  0%|          | 0/2 [00:00<?, ?it/s]"
      ]
     },
     "metadata": {},
     "output_type": "display_data"
    },
    {
     "name": "stdout",
     "output_type": "stream",
     "text": [
      "['그린 북', '가버나움', '베일리 어게인', '원더', '포드 V 페라리']\n",
      "[9.59, 9.59, 9.53, 9.49, 9.49]\n",
      "[Timestamp('2020-07-01 00:00:00', freq='D'), Timestamp('2020-07-01 00:00:00', freq='D'), Timestamp('2020-07-01 00:00:00', freq='D'), Timestamp('2020-07-01 00:00:00', freq='D'), Timestamp('2020-07-01 00:00:00', freq='D'), Timestamp('2020-07-01 00:00:00', freq='D'), Timestamp('2020-07-01 00:00:00', freq='D'), Timestamp('2020-07-01 00:00:00', freq='D'), Timestamp('2020-07-01 00:00:00', freq='D'), Timestamp('2020-07-01 00:00:00', freq='D'), Timestamp('2020-07-01 00:00:00', freq='D'), Timestamp('2020-07-01 00:00:00', freq='D'), Timestamp('2020-07-01 00:00:00', freq='D'), Timestamp('2020-07-01 00:00:00', freq='D'), Timestamp('2020-07-01 00:00:00', freq='D'), Timestamp('2020-07-01 00:00:00', freq='D'), Timestamp('2020-07-01 00:00:00', freq='D'), Timestamp('2020-07-01 00:00:00', freq='D'), Timestamp('2020-07-01 00:00:00', freq='D'), Timestamp('2020-07-01 00:00:00', freq='D'), Timestamp('2020-07-01 00:00:00', freq='D'), Timestamp('2020-07-01 00:00:00', freq='D'), Timestamp('2020-07-01 00:00:00', freq='D'), Timestamp('2020-07-01 00:00:00', freq='D'), Timestamp('2020-07-01 00:00:00', freq='D'), Timestamp('2020-07-01 00:00:00', freq='D'), Timestamp('2020-07-01 00:00:00', freq='D'), Timestamp('2020-07-01 00:00:00', freq='D'), Timestamp('2020-07-01 00:00:00', freq='D'), Timestamp('2020-07-01 00:00:00', freq='D'), Timestamp('2020-07-01 00:00:00', freq='D'), Timestamp('2020-07-01 00:00:00', freq='D'), Timestamp('2020-07-01 00:00:00', freq='D'), Timestamp('2020-07-01 00:00:00', freq='D'), Timestamp('2020-07-01 00:00:00', freq='D'), Timestamp('2020-07-01 00:00:00', freq='D'), Timestamp('2020-07-01 00:00:00', freq='D'), Timestamp('2020-07-01 00:00:00', freq='D'), Timestamp('2020-07-01 00:00:00', freq='D'), Timestamp('2020-07-01 00:00:00', freq='D'), Timestamp('2020-07-01 00:00:00', freq='D'), Timestamp('2020-07-01 00:00:00', freq='D'), Timestamp('2020-07-01 00:00:00', freq='D'), Timestamp('2020-07-01 00:00:00', freq='D'), Timestamp('2020-07-01 00:00:00', freq='D'), Timestamp('2020-07-01 00:00:00', freq='D'), Timestamp('2020-07-01 00:00:00', freq='D'), Timestamp('2020-07-01 00:00:00', freq='D'), Timestamp('2020-07-01 00:00:00', freq='D'), Timestamp('2020-07-01 00:00:00', freq='D'), Timestamp('2020-07-02 00:00:00', freq='D'), Timestamp('2020-07-02 00:00:00', freq='D'), Timestamp('2020-07-02 00:00:00', freq='D'), Timestamp('2020-07-02 00:00:00', freq='D'), Timestamp('2020-07-02 00:00:00', freq='D'), Timestamp('2020-07-02 00:00:00', freq='D'), Timestamp('2020-07-02 00:00:00', freq='D'), Timestamp('2020-07-02 00:00:00', freq='D'), Timestamp('2020-07-02 00:00:00', freq='D'), Timestamp('2020-07-02 00:00:00', freq='D'), Timestamp('2020-07-02 00:00:00', freq='D'), Timestamp('2020-07-02 00:00:00', freq='D'), Timestamp('2020-07-02 00:00:00', freq='D'), Timestamp('2020-07-02 00:00:00', freq='D'), Timestamp('2020-07-02 00:00:00', freq='D'), Timestamp('2020-07-02 00:00:00', freq='D'), Timestamp('2020-07-02 00:00:00', freq='D'), Timestamp('2020-07-02 00:00:00', freq='D'), Timestamp('2020-07-02 00:00:00', freq='D'), Timestamp('2020-07-02 00:00:00', freq='D'), Timestamp('2020-07-02 00:00:00', freq='D'), Timestamp('2020-07-02 00:00:00', freq='D'), Timestamp('2020-07-02 00:00:00', freq='D'), Timestamp('2020-07-02 00:00:00', freq='D'), Timestamp('2020-07-02 00:00:00', freq='D'), Timestamp('2020-07-02 00:00:00', freq='D'), Timestamp('2020-07-02 00:00:00', freq='D'), Timestamp('2020-07-02 00:00:00', freq='D'), Timestamp('2020-07-02 00:00:00', freq='D'), Timestamp('2020-07-02 00:00:00', freq='D'), Timestamp('2020-07-02 00:00:00', freq='D'), Timestamp('2020-07-02 00:00:00', freq='D'), Timestamp('2020-07-02 00:00:00', freq='D'), Timestamp('2020-07-02 00:00:00', freq='D'), Timestamp('2020-07-02 00:00:00', freq='D'), Timestamp('2020-07-02 00:00:00', freq='D'), Timestamp('2020-07-02 00:00:00', freq='D'), Timestamp('2020-07-02 00:00:00', freq='D'), Timestamp('2020-07-02 00:00:00', freq='D'), Timestamp('2020-07-02 00:00:00', freq='D'), Timestamp('2020-07-02 00:00:00', freq='D'), Timestamp('2020-07-02 00:00:00', freq='D'), Timestamp('2020-07-02 00:00:00', freq='D'), Timestamp('2020-07-02 00:00:00', freq='D'), Timestamp('2020-07-02 00:00:00', freq='D'), Timestamp('2020-07-02 00:00:00', freq='D'), Timestamp('2020-07-02 00:00:00', freq='D'), Timestamp('2020-07-02 00:00:00', freq='D'), Timestamp('2020-07-02 00:00:00', freq='D'), Timestamp('2020-07-02 00:00:00', freq='D')]\n"
     ]
    }
   ],
   "source": [
    "import pandas as pd\n",
    "from urllib.request import urlopen\n",
    "from bs4 import BeautifulSoup\n",
    "from tqdm.notebook import tqdm\n",
    "\n",
    "date_list = pd.date_range('2020-07-01', periods=2, freq='D')\n",
    "\n",
    "movie_title = []\n",
    "movie_point = []\n",
    "movie_date = []\n",
    "\n",
    "for today in tqdm(date_list):\n",
    "    url = \"https://movie.naver.com/movie/sdb/rank/rmovie.nhn?sel=pnt&date=\" + (today.strftime('%Y%m%d'))\n",
    "    html = urlopen(url)\n",
    "    \n",
    "    soup = BeautifulSoup(html.read(),\"html.parser\")\n",
    "    \n",
    "    titles = soup.find_all('div',{'class':'tit5'})\n",
    "    points = soup.find_all('td',{'class':'point'})\n",
    "    \n",
    "    titles_text = []\n",
    "    points_text = []\n",
    "    date = []\n",
    "    \n",
    "    for t, p in zip(titles, points):\n",
    "        titles_text.append(t.text.strip(' \\n'))\n",
    "        points_text.append(float(p.text))\n",
    "        date.append(today)\n",
    "        \n",
    "    movie_title += titles_text\n",
    "    movie_point += points_text\n",
    "    movie_date += date\n",
    "        \n",
    "print(movie_title[:5])\n",
    "print(movie_point[:5])\n",
    "print(movie_date)"
   ]
  },
  {
   "cell_type": "code",
   "execution_count": null,
   "id": "318bae40",
   "metadata": {},
   "outputs": [],
   "source": []
  }
 ],
 "metadata": {
  "kernelspec": {
   "display_name": "Python 3",
   "language": "python",
   "name": "python3"
  },
  "language_info": {
   "codemirror_mode": {
    "name": "ipython",
    "version": 3
   },
   "file_extension": ".py",
   "mimetype": "text/x-python",
   "name": "python",
   "nbconvert_exporter": "python",
   "pygments_lexer": "ipython3",
   "version": "3.8.8"
  }
 },
 "nbformat": 4,
 "nbformat_minor": 5
}
