{
 "cells": [
  {
   "cell_type": "code",
   "execution_count": 6,
   "id": "b7b969f0",
   "metadata": {
    "scrolled": true
   },
   "outputs": [
    {
     "name": "stdout",
     "output_type": "stream",
     "text": [
      "기상 관측 이래, 인천의 최고 기온이 가장 높았던 날은  1949-07-16 이고 38.9 도입니다\n"
     ]
    }
   ],
   "source": [
    "import csv\n",
    "\n",
    "f = open('incheon_weather.csv', 'r')\n",
    "data = csv.reader(f)\n",
    "header = next(data)\n",
    "#print(header)\n",
    "\n",
    "max_temp = -999\n",
    "max_date=''\n",
    "\n",
    "for row in data: \n",
    "    if row[-1] == '':\n",
    "        row[-1] = -999\n",
    "    row[-1] = float(row[-1])\n",
    "    if max_temp < row[-1]:\n",
    "        max_temp = row[-1]\n",
    "        max_date = row[0]\n",
    "   \n",
    "f.close()\n",
    "\n",
    "print('기상 관측 이래, 인천의 최고 기온이 가장 높았던 날은 ',max_date,'이고', max_temp,'도입니다')"
   ]
  },
  {
   "cell_type": "code",
   "execution_count": null,
   "id": "d6099c9a",
   "metadata": {},
   "outputs": [],
   "source": []
  }
 ],
 "metadata": {
  "kernelspec": {
   "display_name": "Python 3",
   "language": "python",
   "name": "python3"
  },
  "language_info": {
   "codemirror_mode": {
    "name": "ipython",
    "version": 3
   },
   "file_extension": ".py",
   "mimetype": "text/x-python",
   "name": "python",
   "nbconvert_exporter": "python",
   "pygments_lexer": "ipython3",
   "version": "3.8.8"
  }
 },
 "nbformat": 4,
 "nbformat_minor": 5
}
