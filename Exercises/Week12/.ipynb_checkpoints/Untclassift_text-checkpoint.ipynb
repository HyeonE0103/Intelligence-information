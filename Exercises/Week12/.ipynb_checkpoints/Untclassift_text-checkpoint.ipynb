{
 "cells": [
  {
   "cell_type": "code",
   "execution_count": 2,
   "id": "e07d40d7",
   "metadata": {},
   "outputs": [
    {
     "data": {
      "text/plain": [
       "[('사과가 좋아', 'pos'),\n",
       " ('밤에 먹는 사과는 비추야', 'neg'),\n",
       " ('사과가 잘 익었어 맛있겠다', 'pos'),\n",
       " ('바나나는 맛있어', 'pos')]"
      ]
     },
     "execution_count": 2,
     "metadata": {},
     "output_type": "execute_result"
    }
   ],
   "source": [
    "#데이터 입력해주기\n",
    "train = [('사과가 좋아','pos'),('밤에 먹는 사과는 비추야','neg'),\n",
    "         ('사과가 잘 익었어 맛있겠다','pos'),('바나나는 맛있어','pos')]\n",
    "\n",
    "train"
   ]
  },
  {
   "cell_type": "code",
   "execution_count": 3,
   "id": "83b8854f",
   "metadata": {},
   "outputs": [],
   "source": [
    "from nltk.tokenize import word_tokenize\n",
    "import nltk"
   ]
  },
  {
   "cell_type": "code",
   "execution_count": 4,
   "id": "839319c5",
   "metadata": {},
   "outputs": [
    {
     "name": "stderr",
     "output_type": "stream",
     "text": [
      "[nltk_data] Downloading package punkt to\n",
      "[nltk_data]     C:\\Users\\admin\\AppData\\Roaming\\nltk_data...\n",
      "[nltk_data]   Unzipping tokenizers\\punkt.zip.\n"
     ]
    },
    {
     "data": {
      "text/plain": [
       "True"
      ]
     },
     "execution_count": 4,
     "metadata": {},
     "output_type": "execute_result"
    }
   ],
   "source": [
    "nltk.download('punkt')"
   ]
  },
  {
   "cell_type": "code",
   "execution_count": 5,
   "id": "efb964d5",
   "metadata": {},
   "outputs": [
    {
     "data": {
      "text/plain": [
       "[('I like you', 'pos'),\n",
       " ('I kill you', 'neg'),\n",
       " ('I enjoyed it', 'pos'),\n",
       " ('I hate it', 'neg')]"
      ]
     },
     "execution_count": 5,
     "metadata": {},
     "output_type": "execute_result"
    }
   ],
   "source": [
    "train = [('I like you','pos'),('I kill you','neg'),\n",
    "        ('I enjoyed it','pos'),('I hate it','neg')]\n",
    "\n",
    "train"
   ]
  },
  {
   "cell_type": "code",
   "execution_count": 6,
   "id": "d34c89c4",
   "metadata": {},
   "outputs": [
    {
     "data": {
      "text/plain": [
       "{'I', 'enjoyed', 'hate', 'it', 'kill', 'like', 'you'}"
      ]
     },
     "execution_count": 6,
     "metadata": {},
     "output_type": "execute_result"
    }
   ],
   "source": [
    "#train에 있는 문장들의 단어 set 만들기\n",
    "#set()을 이용하여 집합으로 만들기\n",
    "\n",
    "all_words = set()\n",
    "\n",
    "for tup in train:\n",
    "    sent, label = tup[0], tup[1]\n",
    "    words = word_tokenize(sent)\n",
    "    for word in words:\n",
    "        all_words.add(word)\n",
    "\n",
    "all_words"
   ]
  },
  {
   "cell_type": "code",
   "execution_count": 7,
   "id": "285ed325",
   "metadata": {},
   "outputs": [
    {
     "name": "stdout",
     "output_type": "stream",
     "text": [
      "({'you': True, 'hate': False, 'kill': False, 'like': True, 'I': True, 'it': False, 'enjoyed': False}, 'pos')\n",
      "({'you': True, 'hate': False, 'kill': True, 'like': False, 'I': True, 'it': False, 'enjoyed': False}, 'neg')\n",
      "({'you': False, 'hate': False, 'kill': False, 'like': False, 'I': True, 'it': True, 'enjoyed': True}, 'pos')\n",
      "({'you': False, 'hate': True, 'kill': False, 'like': False, 'I': True, 'it': True, 'enjoyed': False}, 'neg')\n"
     ]
    }
   ],
   "source": [
    "train_features = []\n",
    "\n",
    "for tup in train:\n",
    "    sent, label = tup[0], tup[1]\n",
    "    words = word_tokenize(sent)\n",
    "    tmp = dict()\n",
    "    for set_word in all_words:\n",
    "        if set_word in words:\n",
    "            tmp[set_word] = True\n",
    "        else:\n",
    "            tmp[set_word] = False\n",
    "    sent_tup = (tmp, label)\n",
    "    train_features.append(sent_tup)\n",
    "    \n",
    "print(train_features[0])\n",
    "print(train_features[1])\n",
    "print(train_features[2])\n",
    "print(train_features[3])"
   ]
  },
  {
   "cell_type": "code",
   "execution_count": 8,
   "id": "0f507783",
   "metadata": {},
   "outputs": [
    {
     "name": "stdout",
     "output_type": "stream",
     "text": [
      "({'you': True, 'hate': False, 'kill': False, 'like': True, 'I': True, 'it': False, 'enjoyed': False}, 'pos')\n",
      "({'you': True, 'hate': False, 'kill': True, 'like': False, 'I': True, 'it': False, 'enjoyed': False}, 'neg')\n",
      "({'you': False, 'hate': False, 'kill': False, 'like': False, 'I': True, 'it': True, 'enjoyed': True}, 'pos')\n",
      "({'you': False, 'hate': True, 'kill': False, 'like': False, 'I': True, 'it': True, 'enjoyed': False}, 'neg')\n"
     ]
    }
   ],
   "source": [
    "#간략화1\n",
    "train_features = []\n",
    "\n",
    "for tup in train:\n",
    "    sent, label = tup[0], tup[1]\n",
    "    words = word_tokenize(sent)\n",
    "    tmp = dict()\n",
    "    for set_word in all_words:\n",
    "        tmp[set_word] = (set_word in words) #set_word에 있는지 여부 판별\n",
    "    sent_tup = (tmp, label)\n",
    "    train_features.append(sent_tup)\n",
    "    \n",
    "print(train_features[0])\n",
    "print(train_features[1])\n",
    "print(train_features[2])\n",
    "print(train_features[3])"
   ]
  },
  {
   "cell_type": "code",
   "execution_count": 12,
   "id": "a836f127",
   "metadata": {},
   "outputs": [
    {
     "name": "stdout",
     "output_type": "stream",
     "text": [
      "({'you': True, 'hate': False, 'kill': False, 'like': True, 'I': True, 'it': False, 'enjoyed': False}, 'pos')\n",
      "({'you': True, 'hate': False, 'kill': True, 'like': False, 'I': True, 'it': False, 'enjoyed': False}, 'neg')\n",
      "({'you': False, 'hate': False, 'kill': False, 'like': False, 'I': True, 'it': True, 'enjoyed': True}, 'pos')\n",
      "({'you': False, 'hate': True, 'kill': False, 'like': False, 'I': True, 'it': True, 'enjoyed': False}, 'neg')\n"
     ]
    }
   ],
   "source": [
    "#간력화2\n",
    "train_features = []\n",
    "\n",
    "for tup in train:\n",
    "    sent, label = tup[0], tup[1]\n",
    "    words = word_tokenize(sent)\n",
    "    tmp = {set_word: (set_word in words) for set_word in all_words} #for문 다음에 오는 명령문을 1줄로 작성\n",
    "    sent_tup = (tmp, label)\n",
    "    train_features.append(sent_tup)\n",
    "    \n",
    "print(train_features[0])\n",
    "print(train_features[1])\n",
    "print(train_features[2])\n",
    "print(train_features[3])"
   ]
  },
  {
   "cell_type": "code",
   "execution_count": 13,
   "id": "02d756c9",
   "metadata": {},
   "outputs": [
    {
     "name": "stdout",
     "output_type": "stream",
     "text": [
      "Most Informative Features\n",
      "                 enjoyed = False             neg : pos    =      1.7 : 1.0\n",
      "                    hate = False             pos : neg    =      1.7 : 1.0\n",
      "                    kill = False             pos : neg    =      1.7 : 1.0\n",
      "                    like = False             neg : pos    =      1.7 : 1.0\n",
      "                       I = True              neg : pos    =      1.0 : 1.0\n",
      "                      it = False             neg : pos    =      1.0 : 1.0\n",
      "                      it = True              neg : pos    =      1.0 : 1.0\n"
     ]
    }
   ],
   "source": [
    "classifier = nltk.NaiveBayesClassifier.train(train_features)\n",
    "classifier.show_most_informative_features()"
   ]
  },
  {
   "cell_type": "code",
   "execution_count": 14,
   "id": "828f1010",
   "metadata": {},
   "outputs": [
    {
     "name": "stdout",
     "output_type": "stream",
     "text": [
      "{'you': False, 'hate': False, 'kill': False, 'like': True, 'I': True, 'it': True, 'enjoyed': False}\n"
     ]
    }
   ],
   "source": [
    "test_sent = 'I like it'\n",
    "\n",
    "words = word_tokenize(test_sent)\n",
    "test_feature = {set_word: (set_word in words) for set_word in all_words}\n",
    "\n",
    "print(test_feature)"
   ]
  },
  {
   "cell_type": "code",
   "execution_count": 15,
   "id": "bd57068b",
   "metadata": {},
   "outputs": [
    {
     "data": {
      "text/plain": [
       "'pos'"
      ]
     },
     "execution_count": 15,
     "metadata": {},
     "output_type": "execute_result"
    }
   ],
   "source": [
    "classifier.classify(test_feature)"
   ]
  },
  {
   "cell_type": "code",
   "execution_count": 20,
   "id": "1553c318",
   "metadata": {},
   "outputs": [
    {
     "data": {
      "text/plain": [
       "[('사과가 좋아', 'pos'), ('밤에 먹는 사과는 비추야', 'neg'), ('사과가 잘 익었어 맛있겠다', 'pos')]"
      ]
     },
     "execution_count": 20,
     "metadata": {},
     "output_type": "execute_result"
    }
   ],
   "source": [
    "#데이터 입력해주기\n",
    "train = [('사과가 좋아','pos'),('밤에 먹는 사과는 비추야','neg'),\n",
    "         ('사과가 잘 익었어 맛있겠다','pos')]\n",
    "\n",
    "train"
   ]
  },
  {
   "cell_type": "code",
   "execution_count": 21,
   "id": "c9d590b0",
   "metadata": {},
   "outputs": [
    {
     "name": "stdout",
     "output_type": "stream",
     "text": [
      "{'비추야', '밤에', '익었어', '사과가', '잘', '맛있겠다', '사과는', '좋아', '먹는'}\n"
     ]
    }
   ],
   "source": [
    "#train에 있는 문장들의 단어 set 만들기\n",
    "#set()을 이용하여 집합으로 만들기\n",
    "\n",
    "all_words = set()\n",
    "\n",
    "for tup in train:\n",
    "    sent, label = tup[0], tup[1]\n",
    "    words = word_tokenize(sent)\n",
    "    for word in words:\n",
    "        all_words.add(word)\n",
    "        \n",
    "print(all_words)"
   ]
  },
  {
   "cell_type": "code",
   "execution_count": 22,
   "id": "437531be",
   "metadata": {},
   "outputs": [
    {
     "name": "stdout",
     "output_type": "stream",
     "text": [
      "({'비추야': False, '밤에': False, '익었어': False, '사과가': True, '잘': False, '맛있겠다': False, '사과는': False, '좋아': True, '먹는': False}, 'pos')\n",
      "({'비추야': True, '밤에': True, '익었어': False, '사과가': False, '잘': False, '맛있겠다': False, '사과는': True, '좋아': False, '먹는': True}, 'neg')\n",
      "({'비추야': False, '밤에': False, '익었어': True, '사과가': True, '잘': True, '맛있겠다': True, '사과는': False, '좋아': False, '먹는': False}, 'pos')\n"
     ]
    }
   ],
   "source": [
    "train_features = []\n",
    "\n",
    "for tup in train:\n",
    "    sent, label = tup[0], tup[1]\n",
    "    words = word_tokenize(sent)\n",
    "    tmp = {set_word: (set_word in words) for set_word in all_words}\n",
    "    sent_tup = (tmp, label)\n",
    "    train_features.append(sent_tup)\n",
    "    \n",
    "for i in range(len(train_features)):\n",
    "    print(train_features[i])"
   ]
  },
  {
   "cell_type": "code",
   "execution_count": 23,
   "id": "e96c0b58",
   "metadata": {},
   "outputs": [
    {
     "name": "stdout",
     "output_type": "stream",
     "text": [
      "Most Informative Features\n",
      "                    맛있겠다 = False             neg : pos    =      1.5 : 1.0\n",
      "                     익었어 = False             neg : pos    =      1.5 : 1.0\n",
      "                       잘 = False             neg : pos    =      1.5 : 1.0\n",
      "                      좋아 = False             neg : pos    =      1.5 : 1.0\n"
     ]
    }
   ],
   "source": [
    "classifier = nltk.NaiveBayesClassifier.train(train_features)\n",
    "classifier.show_most_informative_features()"
   ]
  },
  {
   "cell_type": "code",
   "execution_count": 24,
   "id": "1ca99c7d",
   "metadata": {},
   "outputs": [
    {
     "name": "stdout",
     "output_type": "stream",
     "text": [
      "{'비추야': False, '밤에': False, '익었어': False, '사과가': False, '잘': False, '맛있겠다': False, '사과는': True, '좋아': False, '먹는': False}\n"
     ]
    }
   ],
   "source": [
    "test_sent = '사과는 맛있어'\n",
    "\n",
    "words = word_tokenize(test_sent)\n",
    "test_feature = {set_word: (set_word in words) for set_word in all_words}\n",
    "\n",
    "print(test_feature)"
   ]
  },
  {
   "cell_type": "code",
   "execution_count": 25,
   "id": "271cad56",
   "metadata": {},
   "outputs": [
    {
     "data": {
      "text/plain": [
       "'neg'"
      ]
     },
     "execution_count": 25,
     "metadata": {},
     "output_type": "execute_result"
    }
   ],
   "source": [
    "classifier.classify(test_feature)"
   ]
  },
  {
   "cell_type": "code",
   "execution_count": 33,
   "id": "373487ad",
   "metadata": {},
   "outputs": [],
   "source": [
    "from konlpy.tag import Okt\n",
    "okt = Okt()\n",
    "\n",
    "def pos_tokenize(raw_sent):\n",
    "    pos_sent = []\n",
    "    \n",
    "    #raw_sent: 사과가 좋다\n",
    "    sent = okt.pos(raw_sent, norm=True, stem=True)\n",
    "    #sent: [('사과','Noun'),('가','Josa'),('좋다','Adjective')]\n",
    "    \n",
    "    for tup in sent:\n",
    "        word, tag = tup[0], tup[1] #tup: ('사과','Adjective')\n",
    "        word_tag = word + '/' + tag #word_tag: '사과/Noun'\n",
    "        pos_sent.append(word_tag)\n",
    "        \n",
    "    return ' '.join(pos_sent)"
   ]
  },
  {
   "cell_type": "code",
   "execution_count": 34,
   "id": "c7722200",
   "metadata": {},
   "outputs": [
    {
     "name": "stdout",
     "output_type": "stream",
     "text": [
      "{'는/Josa', '익다/Verb', '에/Josa', '사과/Noun', '자다/Verb', '좋다/Adjective', '비추다/Verb', '맛있다/Adjective', '가/Josa', '먹다/Verb', '밤/Noun'}\n"
     ]
    }
   ],
   "source": [
    "#train에 있는 문장들의 단어 set 만들기\n",
    "#set()을 이용하여 집합으로 만들기\n",
    "\n",
    "all_words = set()\n",
    "\n",
    "for tup in train:\n",
    "    sent, label = tup[0], tup[1]\n",
    "    sent = pos_tokenize(sent) #pos_tokenize 함수 추가\n",
    "    words = word_tokenize(sent)\n",
    "    for word in words:\n",
    "        all_words.add(word)\n",
    "        \n",
    "print(all_words)"
   ]
  },
  {
   "cell_type": "code",
   "execution_count": 35,
   "id": "61d2170f",
   "metadata": {},
   "outputs": [
    {
     "name": "stdout",
     "output_type": "stream",
     "text": [
      "({'는/Josa': False, '익다/Verb': False, '에/Josa': False, '사과/Noun': True, '자다/Verb': False, '좋다/Adjective': True, '비추다/Verb': False, '맛있다/Adjective': False, '가/Josa': True, '먹다/Verb': False, '밤/Noun': False}, 'pos')\n",
      "({'는/Josa': True, '익다/Verb': False, '에/Josa': True, '사과/Noun': True, '자다/Verb': False, '좋다/Adjective': False, '비추다/Verb': True, '맛있다/Adjective': False, '가/Josa': False, '먹다/Verb': True, '밤/Noun': True}, 'neg')\n",
      "({'는/Josa': False, '익다/Verb': True, '에/Josa': False, '사과/Noun': True, '자다/Verb': True, '좋다/Adjective': False, '비추다/Verb': False, '맛있다/Adjective': True, '가/Josa': True, '먹다/Verb': False, '밤/Noun': False}, 'pos')\n"
     ]
    }
   ],
   "source": [
    "train_features = []\n",
    "\n",
    "for tup in train:\n",
    "    sent, label = tup[0], tup[1]\n",
    "    sent = pos_tokenize(sent) #pos_tokenize 함수 추가\n",
    "    words = word_tokenize(sent)\n",
    "    tmp = {set_word: (set_word in words) for set_word in all_words}\n",
    "    sent_tup = (tmp, label)\n",
    "    train_features.append(sent_tup)\n",
    "    \n",
    "for i in range(len(train_features)):\n",
    "    print(train_features[i])"
   ]
  },
  {
   "cell_type": "code",
   "execution_count": 36,
   "id": "9bc5c7f1",
   "metadata": {},
   "outputs": [
    {
     "name": "stdout",
     "output_type": "stream",
     "text": [
      "Most Informative Features\n",
      "           맛있다/Adjective = False             neg : pos    =      1.5 : 1.0\n",
      "                 익다/Verb = False             neg : pos    =      1.5 : 1.0\n",
      "                 자다/Verb = False             neg : pos    =      1.5 : 1.0\n",
      "            좋다/Adjective = False             neg : pos    =      1.5 : 1.0\n"
     ]
    }
   ],
   "source": [
    "classifier = nltk.NaiveBayesClassifier.train(train_features)\n",
    "classifier.show_most_informative_features()"
   ]
  },
  {
   "cell_type": "code",
   "execution_count": 37,
   "id": "8c752968",
   "metadata": {},
   "outputs": [
    {
     "name": "stdout",
     "output_type": "stream",
     "text": [
      "{'는/Josa': False, '익다/Verb': False, '에/Josa': False, '사과/Noun': False, '자다/Verb': False, '좋다/Adjective': False, '비추다/Verb': False, '맛있다/Adjective': False, '가/Josa': False, '먹다/Verb': False, '밤/Noun': False}\n"
     ]
    }
   ],
   "source": [
    "test_sent = '사과는 맛있어'\n",
    "\n",
    "sent = pos_tokenize(sent) #pos_tokenize 함수 추가\n",
    "words = word_tokenize(test_sent)\n",
    "test_feature = {set_word: (set_word in words) for set_word in all_words}\n",
    "\n",
    "print(test_feature)"
   ]
  },
  {
   "cell_type": "code",
   "execution_count": 38,
   "id": "08c5f1dd",
   "metadata": {},
   "outputs": [
    {
     "data": {
      "text/plain": [
       "'pos'"
      ]
     },
     "execution_count": 38,
     "metadata": {},
     "output_type": "execute_result"
    }
   ],
   "source": [
    "classifier.classify(test_feature)"
   ]
  },
  {
   "cell_type": "code",
   "execution_count": null,
   "id": "b3455cbb",
   "metadata": {},
   "outputs": [],
   "source": []
  }
 ],
 "metadata": {
  "kernelspec": {
   "display_name": "Python 3",
   "language": "python",
   "name": "python3"
  },
  "language_info": {
   "codemirror_mode": {
    "name": "ipython",
    "version": 3
   },
   "file_extension": ".py",
   "mimetype": "text/x-python",
   "name": "python",
   "nbconvert_exporter": "python",
   "pygments_lexer": "ipython3",
   "version": "3.8.8"
  }
 },
 "nbformat": 4,
 "nbformat_minor": 5
}
